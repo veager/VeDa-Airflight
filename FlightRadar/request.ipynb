{
 "cells": [
  {
   "cell_type": "code",
   "execution_count": 1,
   "metadata": {
    "collapsed": true
   },
   "outputs": [],
   "source": [
    "import json\n",
    "import os\n",
    "import time\n",
    "import datetime\n",
    "\n",
    "import numpy as np\n",
    "import pandas as pd\n",
    "\n",
    "import utils_codes.utils as uc"
   ]
  },
  {
   "cell_type": "code",
   "execution_count": 2,
   "outputs": [],
   "source": [
    "path = r'C:\\zhouweifile\\Github-Project\\VeDa-Airport-Location\\case01_extract_cn_airport\\cn_airline.xlsx'\n",
    "airline_cn = pd.read_excel(path, sheet_name='airline CN')\n",
    "airline_icao = airline_cn['ICAO'].dropna().drop_duplicates().to_list()"
   ],
   "metadata": {
    "collapsed": false,
    "pycharm": {
     "name": "#%%\n"
    }
   }
  },
  {
   "cell_type": "code",
   "execution_count": 3,
   "outputs": [],
   "source": [
    "from FlightRadar24 import FlightRadar24API\n",
    "\n",
    "fr_api = FlightRadar24API()\n",
    "flight_li = fr_api.get_flights('CCA')\n",
    "\n",
    "# print(len(flight_li))\n",
    "# type(flight_li[0])\n",
    "flight_info = fr_api.get_flight_details(flight_li[0])"
   ],
   "metadata": {
    "collapsed": false,
    "pycharm": {
     "name": "#%%\n"
    }
   }
  },
  {
   "cell_type": "code",
   "execution_count": 4,
   "outputs": [
    {
     "name": "stdout",
     "output_type": "stream",
     "text": [
      "Airline ICAO code: CAO ; Number of airlines: 8\n",
      "Airline ICAO code: HLF ; Number of airlines: 3\n",
      "Airline ICAO code: CKK ; Number of airlines: 9\n",
      "Airline ICAO code: CYZ ; Number of airlines: 1\n",
      "Airline ICAO code: CSN ; Number of airlines: 292\n",
      "Airline ICAO code: LHA ; Number of airlines: 2\n",
      "Airline ICAO code: CNW ; Number of airlines: 1\n",
      "Airline ICAO code: CSS ; Number of airlines: 3\n",
      "Airline ICAO code: CSC ; Number of airlines: 73\n",
      "Airline ICAO code: YZR ; Number of airlines: 6\n",
      "Airline ICAO code: CTJ ; Number of airlines: 2\n",
      "Airline ICAO code: HYT ; Number of airlines: 7\n",
      "Airline ICAO code: JYH ; Number of airlines: 10\n",
      "Airline ICAO code: CBJ ; Number of airlines: 37\n",
      "Airline ICAO code: UEA ; Number of airlines: 35\n",
      "Airline ICAO code: CGZ ; Number of airlines: 6\n",
      "Airline ICAO code: CUA ; Number of airlines: 25\n",
      "Airline ICAO code: CJX ; Number of airlines: 5\n",
      "Airline ICAO code: LKE ; Number of airlines: 27\n",
      "Airline ICAO code: RLH ; Number of airlines: 14\n",
      "Airline ICAO code: CQH ; Number of airlines: 64\n",
      "Airline ICAO code: CUH ; Number of airlines: 6\n",
      "Airline ICAO code: CHB ; Number of airlines: 12\n",
      "Airline ICAO code: CCA ; Number of airlines: 225\n",
      "Airline ICAO code: CES ; Number of airlines: 240\n",
      "Airline ICAO code: CHH ; Number of airlines: 80\n",
      "Airline ICAO code: DKH ; Number of airlines: 53\n",
      "Airline ICAO code: CSH ; Number of airlines: 44\n",
      "Airline ICAO code: CSZ ; Number of airlines: 85\n",
      "Airline ICAO code: CXA ; Number of airlines: 74\n",
      "Airline ICAO code: CGH ; Number of airlines: 2\n",
      "Airline ICAO code: CGN ; Number of airlines: 5\n",
      "Airline ICAO code: CMN ; Number of airlines: 0\n",
      "Airline ICAO code: OTC ; Number of airlines: 6\n",
      "Airline ICAO code: CQN ; Number of airlines: 15\n",
      "Airline ICAO code: CCD ; Number of airlines: 5\n",
      "Airline ICAO code: EPA ; Number of airlines: 7\n",
      "Airline ICAO code: FZA ; Number of airlines: 5\n",
      "Airline ICAO code: GDC ; Number of airlines: 2\n",
      "Airline ICAO code: CBG ; Number of airlines: 10\n",
      "Airline ICAO code: HBH ; Number of airlines: 15\n",
      "Airline ICAO code: KNA ; Number of airlines: 14\n",
      "Airline ICAO code: SNG ; Number of airlines: 2\n",
      "Airline ICAO code: CDC ; Number of airlines: 36\n",
      "Airline ICAO code: OKA ; Number of airlines: 8\n",
      "Airline ICAO code: QDA ; Number of airlines: 14\n",
      "Airline ICAO code: CDG ; Number of airlines: 46\n",
      "Airline ICAO code: GCR ; Number of airlines: 23\n",
      "Airline ICAO code: TBA ; Number of airlines: 14\n",
      "Airline ICAO code: HXA ; Number of airlines: 22\n",
      "Airline ICAO code: NMG ; Number of airlines: 4\n",
      "Airline ICAO code: JOY ; Number of airlines: 1\n",
      "Airline ICAO code: OTT ; Number of airlines: 4\n",
      "Airline ICAO code: AHK ; Number of airlines: 0\n",
      "Airline ICAO code: CPA ; Number of airlines: 78\n",
      "Airline ICAO code: HKC ; Number of airlines: 3\n",
      "Airline ICAO code: EMU ; Number of airlines: 0\n",
      "Airline ICAO code: HKJ ; Number of airlines: 0\n",
      "Airline ICAO code: MTJ ; Number of airlines: 0\n",
      "Airline ICAO code: TBJ ; Number of airlines: 0\n",
      "Airline ICAO code: HGB ; Number of airlines: 4\n",
      "Airline ICAO code: CRK ; Number of airlines: 12\n",
      "Airline ICAO code: HKE ; Number of airlines: 20\n",
      "Airline ICAO code: AMU ; Number of airlines: 8\n",
      "2024-03-13 12-40-18\n"
     ]
    }
   ],
   "source": [
    "# Access flight data\n",
    "data = uc.access_brief_flight_by_airline(airline_icao)\n",
    "# Save flight data\n",
    "uc.save_brief_fight_data(data)"
   ],
   "metadata": {
    "collapsed": false,
    "pycharm": {
     "name": "#%%\n"
    }
   }
  },
  {
   "cell_type": "code",
   "execution_count": 5,
   "outputs": [
    {
     "name": "stdout",
     "output_type": "stream",
     "text": [
      "Airline ICAO code: CAO ; Number of airlines: 8\n",
      "Airline ICAO code: HLF ; Number of airlines: 3\n",
      "Airline ICAO code: CKK ; Number of airlines: 9\n",
      "Airline ICAO code: CYZ ; Number of airlines: 1\n",
      "Airline ICAO code: CSN ; Number of airlines: 298\n",
      "Airline ICAO code: LHA ; Number of airlines: 1\n",
      "Airline ICAO code: CNW ; Number of airlines: 1\n",
      "Airline ICAO code: CSS ; Number of airlines: 3\n",
      "Airline ICAO code: CSC ; Number of airlines: 75\n",
      "Airline ICAO code: YZR ; Number of airlines: 6\n"
     ]
    },
    {
     "ename": "CloudflareError",
     "evalue": "An unexpected error has occurred. Perhaps you are making too many calls?",
     "output_type": "error",
     "traceback": [
      "\u001B[1;31m---------------------------------------------------------------------------\u001B[0m",
      "\u001B[1;31mCloudflareError\u001B[0m                           Traceback (most recent call last)",
      "Cell \u001B[1;32mIn [5], line 1\u001B[0m\n\u001B[1;32m----> 1\u001B[0m \u001B[43muc\u001B[49m\u001B[38;5;241;43m.\u001B[39;49m\u001B[43maccess_detail_flight_by_airline\u001B[49m\u001B[43m(\u001B[49m\u001B[43mairline_icao\u001B[49m\u001B[43m)\u001B[49m\n",
      "File \u001B[1;32mC:\\zhouweifile\\Github-Project\\VeDa-Airflight\\FlightRadar\\utils_codes\\utils.py:109\u001B[0m, in \u001B[0;36maccess_detail_flight_by_airline\u001B[1;34m(airline_li, time_sleep)\u001B[0m\n\u001B[0;32m    107\u001B[0m \u001B[38;5;28;01mfor\u001B[39;00m flight \u001B[38;5;129;01min\u001B[39;00m flight_li:\n\u001B[0;32m    108\u001B[0m     time\u001B[38;5;241m.\u001B[39msleep(time_sleep)\n\u001B[1;32m--> 109\u001B[0m     flight_info \u001B[38;5;241m=\u001B[39m \u001B[43mfr_api\u001B[49m\u001B[38;5;241;43m.\u001B[39;49m\u001B[43mget_flight_details\u001B[49m\u001B[43m(\u001B[49m\u001B[43mflight\u001B[49m\u001B[43m)\u001B[49m\n\u001B[0;32m    111\u001B[0m     save_path \u001B[38;5;241m=\u001B[39m os\u001B[38;5;241m.\u001B[39mpath\u001B[38;5;241m.\u001B[39mjoin(\u001B[38;5;124m'\u001B[39m\u001B[38;5;124mdata\u001B[39m\u001B[38;5;124m'\u001B[39m, dt_day, dt_hour[:\u001B[38;5;241m2\u001B[39m],\n\u001B[0;32m    112\u001B[0m                              \u001B[38;5;124m'\u001B[39m\u001B[38;5;124mairflight_\u001B[39m\u001B[38;5;132;01m{0}\u001B[39;00m\u001B[38;5;124m_\u001B[39m\u001B[38;5;132;01m{1}\u001B[39;00m\u001B[38;5;124m.json\u001B[39m\u001B[38;5;124m'\u001B[39m\u001B[38;5;241m.\u001B[39mformat(flight\u001B[38;5;241m.\u001B[39mcallsign, datetime\u001B[38;5;241m.\u001B[39mdatetime\u001B[38;5;241m.\u001B[39mnow()\u001B[38;5;241m.\u001B[39mstrftime(\u001B[38;5;124m'\u001B[39m\u001B[38;5;124m%\u001B[39m\u001B[38;5;124mY-\u001B[39m\u001B[38;5;124m%\u001B[39m\u001B[38;5;124mm-\u001B[39m\u001B[38;5;132;01m%d\u001B[39;00m\u001B[38;5;124m \u001B[39m\u001B[38;5;124m%\u001B[39m\u001B[38;5;124mH-\u001B[39m\u001B[38;5;124m%\u001B[39m\u001B[38;5;124mM-\u001B[39m\u001B[38;5;124m%\u001B[39m\u001B[38;5;124mS\u001B[39m\u001B[38;5;124m'\u001B[39m)))\n\u001B[0;32m    113\u001B[0m     \u001B[38;5;28;01mwith\u001B[39;00m \u001B[38;5;28mopen\u001B[39m(save_path, \u001B[38;5;124m'\u001B[39m\u001B[38;5;124mw\u001B[39m\u001B[38;5;124m'\u001B[39m, encoding\u001B[38;5;241m=\u001B[39m\u001B[38;5;124m'\u001B[39m\u001B[38;5;124mutf-8\u001B[39m\u001B[38;5;124m'\u001B[39m) \u001B[38;5;28;01mas\u001B[39;00m f:\n",
      "File \u001B[1;32mc:\\zhouweifile\\programmingprojects\\python-projects\\virtualenvs\\autogluon\\lib\\site-packages\\FlightRadar24\\api.py:276\u001B[0m, in \u001B[0;36mFlightRadar24API.get_flight_details\u001B[1;34m(self, flight)\u001B[0m\n\u001B[0;32m    270\u001B[0m \u001B[38;5;28;01mdef\u001B[39;00m \u001B[38;5;21mget_flight_details\u001B[39m(\u001B[38;5;28mself\u001B[39m, flight: Flight) \u001B[38;5;241m-\u001B[39m\u001B[38;5;241m>\u001B[39m Dict[Any, Any]:\n\u001B[0;32m    271\u001B[0m     \u001B[38;5;124;03m\"\"\"\u001B[39;00m\n\u001B[0;32m    272\u001B[0m \u001B[38;5;124;03m    Return the flight details from Data Live FlightRadar24.\u001B[39;00m\n\u001B[0;32m    273\u001B[0m \n\u001B[0;32m    274\u001B[0m \u001B[38;5;124;03m    :param flight: A Flight instance\u001B[39;00m\n\u001B[0;32m    275\u001B[0m \u001B[38;5;124;03m    \"\"\"\u001B[39;00m\n\u001B[1;32m--> 276\u001B[0m     response \u001B[38;5;241m=\u001B[39m \u001B[43mAPIRequest\u001B[49m\u001B[43m(\u001B[49m\u001B[43mCore\u001B[49m\u001B[38;5;241;43m.\u001B[39;49m\u001B[43mflight_data_url\u001B[49m\u001B[38;5;241;43m.\u001B[39;49m\u001B[43mformat\u001B[49m\u001B[43m(\u001B[49m\u001B[43mflight\u001B[49m\u001B[38;5;241;43m.\u001B[39;49m\u001B[43mid\u001B[49m\u001B[43m)\u001B[49m\u001B[43m,\u001B[49m\u001B[43m \u001B[49m\u001B[43mheaders\u001B[49m\u001B[38;5;241;43m=\u001B[39;49m\u001B[43mCore\u001B[49m\u001B[38;5;241;43m.\u001B[39;49m\u001B[43mjson_headers\u001B[49m\u001B[43m)\u001B[49m\n\u001B[0;32m    277\u001B[0m     \u001B[38;5;28;01mreturn\u001B[39;00m response\u001B[38;5;241m.\u001B[39mget_content()\n",
      "File \u001B[1;32mc:\\zhouweifile\\programmingprojects\\python-projects\\virtualenvs\\autogluon\\lib\\site-packages\\FlightRadar24\\request.py:59\u001B[0m, in \u001B[0;36mAPIRequest.__init__\u001B[1;34m(self, url, params, headers, data, cookies, exclude_status_codes)\u001B[0m\n\u001B[0;32m     56\u001B[0m \u001B[38;5;28mself\u001B[39m\u001B[38;5;241m.\u001B[39m__response \u001B[38;5;241m=\u001B[39m request_method(url, headers\u001B[38;5;241m=\u001B[39mheaders, cookies\u001B[38;5;241m=\u001B[39mcookies, data\u001B[38;5;241m=\u001B[39mdata)\n\u001B[0;32m     58\u001B[0m \u001B[38;5;28;01mif\u001B[39;00m \u001B[38;5;28mself\u001B[39m\u001B[38;5;241m.\u001B[39mget_status_code() \u001B[38;5;241m==\u001B[39m \u001B[38;5;241m520\u001B[39m:\n\u001B[1;32m---> 59\u001B[0m     \u001B[38;5;28;01mraise\u001B[39;00m CloudflareError(\n\u001B[0;32m     60\u001B[0m         message\u001B[38;5;241m=\u001B[39m\u001B[38;5;124m\"\u001B[39m\u001B[38;5;124mAn unexpected error has occurred. Perhaps you are making too many calls?\u001B[39m\u001B[38;5;124m\"\u001B[39m,\n\u001B[0;32m     61\u001B[0m         response\u001B[38;5;241m=\u001B[39m\u001B[38;5;28mself\u001B[39m\u001B[38;5;241m.\u001B[39m__response\n\u001B[0;32m     62\u001B[0m     )\n\u001B[0;32m     64\u001B[0m \u001B[38;5;28;01mif\u001B[39;00m \u001B[38;5;28mself\u001B[39m\u001B[38;5;241m.\u001B[39mget_status_code() \u001B[38;5;129;01mnot\u001B[39;00m \u001B[38;5;129;01min\u001B[39;00m exclude_status_codes:\n\u001B[0;32m     65\u001B[0m     \u001B[38;5;28mself\u001B[39m\u001B[38;5;241m.\u001B[39m__response\u001B[38;5;241m.\u001B[39mraise_for_status()\n",
      "\u001B[1;31mCloudflareError\u001B[0m: An unexpected error has occurred. Perhaps you are making too many calls?"
     ]
    }
   ],
   "source": [
    "uc.access_detail_flight_by_airline(airline_icao)"
   ],
   "metadata": {
    "collapsed": false,
    "pycharm": {
     "name": "#%%\n"
    }
   }
  },
  {
   "cell_type": "code",
   "execution_count": null,
   "outputs": [],
   "source": [],
   "metadata": {
    "collapsed": false,
    "pycharm": {
     "name": "#%%\n"
    }
   }
  }
 ],
 "metadata": {
  "kernelspec": {
   "display_name": "Python 3",
   "language": "python",
   "name": "python3"
  },
  "language_info": {
   "codemirror_mode": {
    "name": "ipython",
    "version": 2
   },
   "file_extension": ".py",
   "mimetype": "text/x-python",
   "name": "python",
   "nbconvert_exporter": "python",
   "pygments_lexer": "ipython2",
   "version": "2.7.6"
  }
 },
 "nbformat": 4,
 "nbformat_minor": 0
}