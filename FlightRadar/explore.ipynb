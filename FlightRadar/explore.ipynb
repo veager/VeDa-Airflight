{
 "cells": [
  {
   "cell_type": "code",
   "execution_count": 35,
   "id": "63b572bd-1a71-4c67-bbb3-8fa6cb196fd0",
   "metadata": {
    "tags": []
   },
   "outputs": [],
   "source": [
    "import os\n",
    "import numpy as np\n",
    "import pandas as pd"
   ]
  },
  {
   "cell_type": "code",
   "execution_count": 36,
   "id": "6ae62fe7-a43c-45a1-8d11-1d55d4e8b554",
   "metadata": {},
   "outputs": [],
   "source": [
    "def read_zip(zip_path):\n",
    "    \n",
    "    import zipfile\n",
    "    import io\n",
    "    \n",
    "    data_all = []\n",
    "    \n",
    "    with zipfile.ZipFile(zip_path) as zf:\n",
    "        filename_li = zf.namelist()\n",
    "        filename_li = list(filter(lambda x : x.endswith('.csv'), filename_li))\n",
    "        \n",
    "        for filename in filename_li:\n",
    "            s = zf.read(filename).decode(\"utf-8\") \n",
    "            data = pd.read_csv(io.StringIO(s))\n",
    "    \n",
    "            data_all.append(data)\n",
    "    \n",
    "    data_all = pd.concat(data_all, axis=0, ignore_index=True)\n",
    "    \n",
    "    return data_all\n",
    "# ===================================================================== "
   ]
  },
  {
   "cell_type": "code",
   "execution_count": 37,
   "id": "89c9edae-cb07-473d-a044-a7d13d745f68",
   "metadata": {
    "tags": []
   },
   "outputs": [
    {
     "name": "stdout",
     "output_type": "stream",
     "text": [
      "(390327, 2)\n",
      "The first three letters of callsign number are alpha letters: {True: 390311, False: 16} \n",
      " The charateristics of callsign number from fourth onward are digtial number: {True: 390185, False: 142} \n",
      " The length of callsign number is no less than five: {True: 390327} \n",
      "\n",
      "(390327, 2)\n"
     ]
    }
   ],
   "source": [
    "zip_path = r'data/airline_cn_20240313_20140324.zip'\n",
    "data = read_zip(zip_path)\n",
    "\n",
    "\n",
    "data = data[['callsign', 'destination_airport_iata', 'origin_airport_iata']] \\\n",
    "           .dropna(ignore_index=True) \\\n",
    "           .assign(od_iata = lambda x : x['origin_airport_iata'].str.cat(x['destination_airport_iata'], sep='-')) \\\n",
    "           .drop(['origin_airport_iata', 'destination_airport_iata'], axis=1)\n",
    "print(data.shape)\n",
    "\n",
    "\n",
    "# check the criteria of 'callsign', only used for CN airline\n",
    "icao_is_three_letters = data['callsign'].str[:3].str.isalpha()\n",
    "icao_is_numbers       = data['callsign'].str[3:].str.isnumeric()\n",
    "icao_is_len_five      = data['callsign'].str.len() >= 5\n",
    "print('The first three letters of callsign number are alpha letters:', icao_is_three_letters.value_counts().to_dict(), '\\n',\n",
    "      'The charateristics of callsign number from fourth onward are digtial number:', icao_is_numbers.value_counts().to_dict(), '\\n',\n",
    "      'The length of callsign number is no less than five:', icao_is_len_five.value_counts().to_dict(), '\\n')\n",
    "\n",
    "# data = data[icao_is_three_letters & icao_is_numbers & icao_is_len_five]\n",
    "print(data.shape)"
   ]
  },
  {
   "cell_type": "code",
   "execution_count": 38,
   "id": "4196acfd-7a2c-4b3a-982d-292dd810ca95",
   "metadata": {
    "tags": []
   },
   "outputs": [],
   "source": [
    "# save airline od\n",
    "\n",
    "data.groupby('callsign').agg(lambda x: pd.Series.mode(x)[0]) \\\n",
    "    .to_csv('data/airline_cn_od.csv')"
   ]
  }
 ],
 "metadata": {
  "kernelspec": {
   "display_name": "Python 3 (ipykernel)",
   "language": "python",
   "name": "python3"
  },
  "language_info": {
   "codemirror_mode": {
    "name": "ipython",
    "version": 3
   },
   "file_extension": ".py",
   "mimetype": "text/x-python",
   "name": "python",
   "nbconvert_exporter": "python",
   "pygments_lexer": "ipython3",
   "version": "3.9.16"
  }
 },
 "nbformat": 4,
 "nbformat_minor": 5
}
