{
 "cells": [
  {
   "cell_type": "code",
   "execution_count": 1,
   "id": "63b572bd-1a71-4c67-bbb3-8fa6cb196fd0",
   "metadata": {
    "tags": []
   },
   "outputs": [],
   "source": [
    "import os\n",
    "import numpy as np\n",
    "import pandas as pd"
   ]
  },
  {
   "cell_type": "code",
   "execution_count": 2,
   "id": "87174199-2a4a-4c76-9700-a25ad029dec4",
   "metadata": {
    "tags": []
   },
   "outputs": [],
   "source": [
    "def get_filename(folder_path):\n",
    "    path_li = []\n",
    "    for file_path, dir_names, file_names in os.walk(folder_path):\n",
    "        for file_name in file_names:\n",
    "            path_li.append(os.path.join(file_path, file_name))\n",
    "    return path_li\n",
    "# --------------------------------------------------\n",
    "def merge_data(datapath_li):\n",
    "    \n",
    "    data_all = []\n",
    "    \n",
    "    for path in datapath_li:\n",
    "        data = pd.read_csv(path)\n",
    "        data_all.append(data)\n",
    "    \n",
    "    data_all = pd.concat(data_all, axis=0, ignore_index=True) \\\n",
    "                 .drop_duplicates(subset=['callsign', 'origin_airport_iata', 'destination_airport_iata']) \\\n",
    "                 .sort_values(by=['airline_icao', 'callsign']) \\\n",
    "                 .reset_index(drop=True)\n",
    "    \n",
    "    return data_all"
   ]
  },
  {
   "cell_type": "code",
   "execution_count": 3,
   "id": "2373fbc3-e2c6-42f8-aebf-2c167304c6e4",
   "metadata": {
    "tags": []
   },
   "outputs": [],
   "source": [
    "folder_path = r'C:\\zhouweifile\\Github-Project\\VeDa-Airflight\\FlightRadar\\data'\n",
    "datapath_li = get_filename(folder_path)\n",
    "\n",
    "data = merge_data(datapath_li)"
   ]
  },
  {
   "cell_type": "code",
   "execution_count": 7,
   "id": "117e8670-159b-46ae-b218-0575abf034b3",
   "metadata": {
    "tags": []
   },
   "outputs": [
    {
     "data": {
      "text/plain": [
       "count\n",
       "1    12720\n",
       "2     3202\n",
       "3      227\n",
       "4       13\n",
       "Name: count, dtype: int64"
      ]
     },
     "execution_count": 7,
     "metadata": {},
     "output_type": "execute_result"
    }
   ],
   "source": [
    "data['callsign'].value_counts().value_counts()"
   ]
  },
  {
   "cell_type": "code",
   "execution_count": 6,
   "id": "494f0f3c-9131-46ed-9222-84953f410647",
   "metadata": {
    "tags": []
   },
   "outputs": [
    {
     "data": {
      "text/html": [
       "<div>\n",
       "<style scoped>\n",
       "    .dataframe tbody tr th:only-of-type {\n",
       "        vertical-align: middle;\n",
       "    }\n",
       "\n",
       "    .dataframe tbody tr th {\n",
       "        vertical-align: top;\n",
       "    }\n",
       "\n",
       "    .dataframe thead th {\n",
       "        text-align: right;\n",
       "    }\n",
       "</style>\n",
       "<table border=\"1\" class=\"dataframe\">\n",
       "  <thead>\n",
       "    <tr style=\"text-align: right;\">\n",
       "      <th></th>\n",
       "      <th>id</th>\n",
       "      <th>icao_24bit</th>\n",
       "      <th>heading</th>\n",
       "      <th>altitude</th>\n",
       "      <th>ground_speed</th>\n",
       "      <th>squawk</th>\n",
       "      <th>aircraft_code</th>\n",
       "      <th>registration</th>\n",
       "      <th>time</th>\n",
       "      <th>origin_airport_iata</th>\n",
       "      <th>destination_airport_iata</th>\n",
       "      <th>number</th>\n",
       "      <th>airline_iata</th>\n",
       "      <th>on_ground</th>\n",
       "      <th>vertical_speed</th>\n",
       "      <th>callsign</th>\n",
       "      <th>airline_icao</th>\n",
       "    </tr>\n",
       "  </thead>\n",
       "  <tbody>\n",
       "    <tr>\n",
       "      <th>18793</th>\n",
       "      <td>345ad8f7</td>\n",
       "      <td>781DC1</td>\n",
       "      <td>140</td>\n",
       "      <td>0</td>\n",
       "      <td>0</td>\n",
       "      <td>NaN</td>\n",
       "      <td>A20N</td>\n",
       "      <td>B-32A0</td>\n",
       "      <td>1710378884</td>\n",
       "      <td>NaN</td>\n",
       "      <td>NaN</td>\n",
       "      <td>QW6031</td>\n",
       "      <td>QW</td>\n",
       "      <td>1</td>\n",
       "      <td>0</td>\n",
       "      <td>QDA6031</td>\n",
       "      <td>QDA</td>\n",
       "    </tr>\n",
       "    <tr>\n",
       "      <th>18794</th>\n",
       "      <td>345ad8f7</td>\n",
       "      <td>781DC1</td>\n",
       "      <td>157</td>\n",
       "      <td>11800</td>\n",
       "      <td>373</td>\n",
       "      <td>NaN</td>\n",
       "      <td>A20N</td>\n",
       "      <td>B-32A0</td>\n",
       "      <td>1710382511</td>\n",
       "      <td>CGQ</td>\n",
       "      <td>YNT</td>\n",
       "      <td>QW6031</td>\n",
       "      <td>QW</td>\n",
       "      <td>0</td>\n",
       "      <td>0</td>\n",
       "      <td>QDA6031</td>\n",
       "      <td>QDA</td>\n",
       "    </tr>\n",
       "    <tr>\n",
       "      <th>18795</th>\n",
       "      <td>345b5cc7</td>\n",
       "      <td>781DC1</td>\n",
       "      <td>265</td>\n",
       "      <td>11225</td>\n",
       "      <td>330</td>\n",
       "      <td>NaN</td>\n",
       "      <td>A20N</td>\n",
       "      <td>B-32A0</td>\n",
       "      <td>1710393311</td>\n",
       "      <td>YNT</td>\n",
       "      <td>CKG</td>\n",
       "      <td>QW6031</td>\n",
       "      <td>QW</td>\n",
       "      <td>0</td>\n",
       "      <td>960</td>\n",
       "      <td>QDA6031</td>\n",
       "      <td>QDA</td>\n",
       "    </tr>\n",
       "    <tr>\n",
       "      <th>18796</th>\n",
       "      <td>3461ac1b</td>\n",
       "      <td>780FC8</td>\n",
       "      <td>137</td>\n",
       "      <td>0</td>\n",
       "      <td>0</td>\n",
       "      <td>NaN</td>\n",
       "      <td>A320</td>\n",
       "      <td>B-8442</td>\n",
       "      <td>1710552045</td>\n",
       "      <td>CGQ</td>\n",
       "      <td>NaN</td>\n",
       "      <td>QW6031</td>\n",
       "      <td>QW</td>\n",
       "      <td>1</td>\n",
       "      <td>0</td>\n",
       "      <td>QDA6031</td>\n",
       "      <td>QDA</td>\n",
       "    </tr>\n",
       "  </tbody>\n",
       "</table>\n",
       "</div>"
      ],
      "text/plain": [
       "             id icao_24bit  heading  altitude  ground_speed  squawk  \\\n",
       "18793  345ad8f7     781DC1      140         0             0     NaN   \n",
       "18794  345ad8f7     781DC1      157     11800           373     NaN   \n",
       "18795  345b5cc7     781DC1      265     11225           330     NaN   \n",
       "18796  3461ac1b     780FC8      137         0             0     NaN   \n",
       "\n",
       "      aircraft_code registration        time origin_airport_iata  \\\n",
       "18793          A20N       B-32A0  1710378884                 NaN   \n",
       "18794          A20N       B-32A0  1710382511                 CGQ   \n",
       "18795          A20N       B-32A0  1710393311                 YNT   \n",
       "18796          A320       B-8442  1710552045                 CGQ   \n",
       "\n",
       "      destination_airport_iata  number airline_iata  on_ground  \\\n",
       "18793                      NaN  QW6031           QW          1   \n",
       "18794                      YNT  QW6031           QW          0   \n",
       "18795                      CKG  QW6031           QW          0   \n",
       "18796                      NaN  QW6031           QW          1   \n",
       "\n",
       "       vertical_speed callsign airline_icao  \n",
       "18793               0  QDA6031          QDA  \n",
       "18794               0  QDA6031          QDA  \n",
       "18795             960  QDA6031          QDA  \n",
       "18796               0  QDA6031          QDA  "
      ]
     },
     "execution_count": 6,
     "metadata": {},
     "output_type": "execute_result"
    }
   ],
   "source": [
    "data[data['callsign'] == 'QDA6031']"
   ]
  },
  {
   "cell_type": "code",
   "execution_count": null,
   "id": "6ae62fe7-a43c-45a1-8d11-1d55d4e8b554",
   "metadata": {},
   "outputs": [],
   "source": []
  }
 ],
 "metadata": {
  "kernelspec": {
   "display_name": "Python 3 (ipykernel)",
   "language": "python",
   "name": "python3"
  },
  "language_info": {
   "codemirror_mode": {
    "name": "ipython",
    "version": 3
   },
   "file_extension": ".py",
   "mimetype": "text/x-python",
   "name": "python",
   "nbconvert_exporter": "python",
   "pygments_lexer": "ipython3",
   "version": "3.9.16"
  }
 },
 "nbformat": 4,
 "nbformat_minor": 5
}
